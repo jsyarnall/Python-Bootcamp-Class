{
 "cells": [
  {
   "cell_type": "markdown",
   "metadata": {},
   "source": [
    "## Game Play\n",
    "To play a hand of Blackjack the following steps must be followed:\n",
    "1. Create a deck of 52 cards\n",
    "2. Shuffle the deck\n",
    "3. Ask the Player for their bet\n",
    "4. Make sure that the Player's bet does not exceed their available chips\n",
    "5. Deal two cards to the Dealer and two cards to the Player\n",
    "6. Show only one of the Dealer's cards, the other remains hidden\n",
    "7. Show both of the Player's cards\n",
    "8. Ask the Player if they wish to Hit, and take another card\n",
    "9. If the Player's hand doesn't Bust (go over 21), ask if they'd like to Hit again.\n",
    "10. If a Player Stands, play the Dealer's hand. The dealer will always Hit until the Dealer's value meets or exceeds 17\n",
    "11. Determine the winner and adjust the Player's chips accordingly\n",
    "12. Ask the Player if they'd like to play again"
   ]
  },
  {
   "cell_type": "markdown",
   "metadata": {},
   "source": [
    "### 1. Playing Cards\n",
    "\n",
    "Assign values to each card, the suits, and create a way to shuffle the deck using the random package."
   ]
  },
  {
   "cell_type": "code",
   "execution_count": 1,
   "metadata": {
    "collapsed": true
   },
   "outputs": [],
   "source": [
    "import random\n",
    "\n",
    "suits = ('Hearts', 'Diamonds', 'Spades', 'Clubs')\n",
    "# Use ranks variable to assign the string value to the card\n",
    "ranks = ('Two', 'Three', 'Four', 'Five', 'Six', 'Seven', 'Eight', 'Nine', 'Ten', 'Jack', 'Queen', 'King', 'Ace')\n",
    "# Create a Dictionary to assign the string of each card name to its numeric value\n",
    "values = {'Two':2, 'Three':3, 'Four':4, 'Five':5, 'Six':6, 'Seven':7, 'Eight':8, 'Nine':9, 'Ten':10, 'Jack':10, \n",
    "          'Queen':10, 'King':10, 'Ace':11}\n",
    "\n",
    "playing = True"
   ]
  },
  {
   "cell_type": "markdown",
   "metadata": {},
   "source": [
    "### 2. Card Class\n",
    "\n",
    "Use a card class object to store a card's rank and suit."
   ]
  },
  {
   "cell_type": "code",
   "execution_count": 2,
   "metadata": {
    "collapsed": true
   },
   "outputs": [],
   "source": [
    "class Card:\n",
    "    \n",
    "    def __init__(self, suit, rank):\n",
    "        self.suit = suit\n",
    "        self.rank = rank\n",
    "    \n",
    "    def __str__(self):\n",
    "        return f'{self.rank} of {self.suit}'"
   ]
  },
  {
   "cell_type": "markdown",
   "metadata": {},
   "source": [
    "### 3. Deck Class\n",
    "\n",
    "Use a deck class object that stores a list of all the cards with a loop then shuffles the deck."
   ]
  },
  {
   "cell_type": "code",
   "execution_count": 3,
   "metadata": {
    "collapsed": true
   },
   "outputs": [],
   "source": [
    "class Deck:\n",
    "    \n",
    "    def __init__(self):\n",
    "        self.deck = [] # Empty list for deck\n",
    "        for suit in suits:    \n",
    "            for rank in ranks:\n",
    "                # Go through the entire contents of the Card Class\n",
    "                self.deck.append(Card(suit,rank))\n",
    "    \n",
    "    def __str__(self):\n",
    "        # Need to loop through our list to convert each item to a string\n",
    "        deck_comp = '' # Start with empty string\n",
    "        for card in self.deck:\n",
    "            deck_comp += '\\n ' + card.__str__()\n",
    "        return 'The deck has:' + deck_comp\n",
    "    \n",
    "    def shuffle(self):\n",
    "        random.shuffle(self.deck)\n",
    "        \n",
    "    def deal(self):\n",
    "        single_card = self.deck.pop()\n",
    "        return single_card"
   ]
  },
  {
   "cell_type": "code",
   "execution_count": 4,
   "metadata": {},
   "outputs": [
    {
     "name": "stdout",
     "output_type": "stream",
     "text": [
      "The deck has:\n",
      " Seven of Spades\n",
      " Six of Clubs\n",
      " Two of Diamonds\n",
      " Queen of Clubs\n",
      " Ten of Hearts\n",
      " Ace of Clubs\n",
      " Seven of Clubs\n",
      " Two of Hearts\n",
      " Four of Spades\n",
      " Seven of Diamonds\n",
      " Eight of Clubs\n",
      " Jack of Clubs\n",
      " Three of Spades\n",
      " Five of Diamonds\n",
      " Queen of Hearts\n",
      " Jack of Spades\n",
      " Four of Hearts\n",
      " Three of Hearts\n",
      " Ace of Spades\n",
      " Two of Spades\n",
      " Nine of Diamonds\n",
      " Four of Clubs\n",
      " King of Clubs\n",
      " Six of Diamonds\n",
      " Six of Spades\n",
      " Five of Hearts\n",
      " Eight of Hearts\n",
      " Eight of Spades\n",
      " Five of Clubs\n",
      " Seven of Hearts\n",
      " King of Hearts\n",
      " Three of Clubs\n",
      " King of Spades\n",
      " Ten of Clubs\n",
      " Ace of Hearts\n",
      " Ten of Spades\n",
      " Queen of Diamonds\n",
      " Jack of Hearts\n",
      " Two of Clubs\n",
      " Nine of Clubs\n",
      " Eight of Diamonds\n",
      " Ten of Diamonds\n",
      " Jack of Diamonds\n",
      " Four of Diamonds\n",
      " Six of Hearts\n",
      " Ace of Diamonds\n",
      " Queen of Spades\n",
      " Three of Diamonds\n",
      " Five of Spades\n",
      " Nine of Hearts\n",
      " Nine of Spades\n",
      " King of Diamonds\n"
     ]
    }
   ],
   "source": [
    "test_deck = Deck()\n",
    "test_deck.shuffle()\n",
    "print(test_deck)"
   ]
  },
  {
   "cell_type": "code",
   "execution_count": 5,
   "metadata": {},
   "outputs": [
    {
     "name": "stdout",
     "output_type": "stream",
     "text": [
      "King of Diamonds\n"
     ]
    }
   ],
   "source": [
    "print(test_deck.deal())"
   ]
  },
  {
   "cell_type": "markdown",
   "metadata": {},
   "source": [
    "### 4. Hand  Class\n",
    "Create a class the calculates the total of a hand. It also accounts for the presence of an Ace."
   ]
  },
  {
   "cell_type": "code",
   "execution_count": 6,
   "metadata": {},
   "outputs": [],
   "source": [
    "class Hand:\n",
    "    \n",
    "    def __init__(self):\n",
    "        self.cards = [] # Start with empty list like we did in Deck Class\n",
    "        self.value = 0 # Start with zero value\n",
    "        self.aces = 0   # Keep track of the aces\n",
    "        \n",
    "    def add_card(self, card):\n",
    "        self.cards.append(card)\n",
    "        self.value += values[card.rank]\n",
    "        if card.rank == 'Ace':\n",
    "            self.aces += 1 # add to self.aces\n",
    "        \n",
    "    def adjust_for_ace(self):\n",
    "        while self.value > 21 and self.aces:\n",
    "            self.value -= 10\n",
    "            self.aces -= 1"
   ]
  },
  {
   "cell_type": "code",
   "execution_count": 7,
   "metadata": {},
   "outputs": [
    {
     "data": {
      "text/plain": [
       "23"
      ]
     },
     "execution_count": 7,
     "metadata": {},
     "output_type": "execute_result"
    }
   ],
   "source": [
    "test_deck = Deck()\n",
    "test_deck.shuffle()\n",
    "test_player = Hand()\n",
    "test_player.add_card(test_deck.deal())\n",
    "test_player.add_card(test_deck.deal())\n",
    "test_player.add_card(test_deck.deal())\n",
    "test_player.value"
   ]
  },
  {
   "cell_type": "code",
   "execution_count": 8,
   "metadata": {},
   "outputs": [
    {
     "name": "stdout",
     "output_type": "stream",
     "text": [
      "King of Hearts\n",
      "Ace of Clubs\n",
      "Two of Diamonds\n",
      "Four of Hearts\n"
     ]
    }
   ],
   "source": [
    "test_player.add_card(test_deck.deal())\n",
    "test_player.value\n",
    "for card in test_player.cards:\n",
    "    print(card)"
   ]
  },
  {
   "cell_type": "code",
   "execution_count": 9,
   "metadata": {},
   "outputs": [
    {
     "data": {
      "text/plain": [
       "17"
      ]
     },
     "execution_count": 9,
     "metadata": {},
     "output_type": "execute_result"
    }
   ],
   "source": [
    "test_player.adjust_for_ace()\n",
    "test_player.value"
   ]
  },
  {
   "cell_type": "markdown",
   "metadata": {},
   "source": [
    "### 5. Create a Chips Class\n",
    "Create a chip class as another exercise for OOP."
   ]
  },
  {
   "cell_type": "code",
   "execution_count": 10,
   "metadata": {
    "collapsed": true
   },
   "outputs": [],
   "source": [
    "class Chips:\n",
    "    \n",
    "    def __init__(self):\n",
    "        self.total = 100\n",
    "        self.bet = 0\n",
    "        \n",
    "    def win_bet(self):\n",
    "        self.total += self.bet\n",
    "        \n",
    "    def lose_bet(self):\n",
    "        self.total -= self.bet"
   ]
  },
  {
   "cell_type": "markdown",
   "metadata": {},
   "source": [
    "### Function Defintions\n",
    "A lot of steps are going to be repetitive. That's where functions come in! The following steps are guidelines - add or remove functions as needed in your own program."
   ]
  },
  {
   "cell_type": "markdown",
   "metadata": {},
   "source": [
    "### 6. Write a function for taking bets\n",
    "Ensure that it takes into account the amount of money remaining in the player's total. Good place for a Try and Except because we need an integer function."
   ]
  },
  {
   "cell_type": "code",
   "execution_count": 18,
   "metadata": {},
   "outputs": [],
   "source": [
    "def take_bet(chips):\n",
    "    \n",
    "    while True:\n",
    "        try:\n",
    "             chips.bet = int(input('How much would you like to bet? '))\n",
    "        except ValueError:\n",
    "            print('Error occured, that is not a number!')\n",
    "            continue\n",
    "        else:\n",
    "            if chips.bet > chips.total:\n",
    "                print('Sorry, your bet cannot exceed',chips.total)\n",
    "            else:\n",
    "                break"
   ]
  },
  {
   "cell_type": "markdown",
   "metadata": {},
   "source": [
    "### Step 7: Write a function for taking hits\n",
    "Either player can take hits until they bust. This function will be called during gameplay anytime a Player requests a hit, or a Dealer's hand is less than 17. It should take in Deck and Hand objects as arguments, and deal one card off the deck and add it to the Hand. You may want it to check for aces in the event that a player's hand exceeds 21."
   ]
  },
  {
   "cell_type": "code",
   "execution_count": 12,
   "metadata": {
    "collapsed": true
   },
   "outputs": [],
   "source": [
    "def hit(deck,hand):\n",
    "    hand.add_card(deck.deal())\n",
    "    hand.adjust_for_ace()"
   ]
  },
  {
   "cell_type": "markdown",
   "metadata": {},
   "source": [
    "### Step 8: Write a function prompting the Player to Hit or Stand\n",
    "This function should accept the deck and the player's hand as arguments, and assign playing as a global variable.<br>\n",
    "If the Player Hits, employ the hit() function above. If the Player Stands, set the playing variable to False - this will control the behavior of a <code>while</code> loop later on in our code."
   ]
  },
  {
   "cell_type": "code",
   "execution_count": 13,
   "metadata": {
    "collapsed": true
   },
   "outputs": [],
   "source": [
    "def hit_or_stand(deck,hand):\n",
    "    global playing # To control an upcoming while loop\n",
    "    \n",
    "    while True:\n",
    "        x = input(\"Would you like to hit or stand? Enter h or s \")\n",
    "        if x[0].lower() == 'h':\n",
    "            hit(deck,hand)\n",
    "            \n",
    "        elif x[0].lower() == 's':\n",
    "            print(\"Player stands. Dealer is playing.\")\n",
    "            playing = False\n",
    "        else:\n",
    "            print(\"Must select either h or s. \")\n",
    "            continue\n",
    "        break"
   ]
  },
  {
   "cell_type": "markdown",
   "metadata": {},
   "source": [
    "### Step 9: Write functions to display cards\n",
    "When the game starts, and after each time Player takes a card, the dealer's first card is hidden and all of Player's cards are visible. At the end of the hand all cards are shown, and you may want to show each hand's total value. Write a function for each of these scenarios."
   ]
  },
  {
   "cell_type": "code",
   "execution_count": 14,
   "metadata": {},
   "outputs": [],
   "source": [
    "def show_some(player,dealer):\n",
    "    print(\"\\nDealer's Hand:\")\n",
    "    print(\" <card hidden>\")\n",
    "    print('',dealer.cards[1])\n",
    "    print(\"\\nPlayer's Hand:\", *player.cards, sep='\\n ')\n",
    "    \n",
    "def show_all(player,dealer):\n",
    "    print(\"\\nDealer's Hand:\", *dealer.cards, sep='\\n ')\n",
    "    print(\"Dealer's Hand = \",dealer.value)\n",
    "    print(\"\\nPlayer's Hand:\", *player.cards, sep='\\n ')\n",
    "    print(\"Player's Hand = \",player.value)"
   ]
  },
  {
   "cell_type": "markdown",
   "metadata": {},
   "source": [
    "### Step 10: Write functions to handle end of game scenarios\n",
    "Remember to pass player's hand, dealer's hand and chips as needed."
   ]
  },
  {
   "cell_type": "code",
   "execution_count": 15,
   "metadata": {
    "collapsed": true
   },
   "outputs": [],
   "source": [
    "def player_busts(player,dealer,chips):\n",
    "    print(\"Player busts!\")\n",
    "    chips.lose_bet()\n",
    "    \n",
    "def player_wins(player,dealer,chips):\n",
    "    print(\"Player wins!\")\n",
    "    chips.win_bet()\n",
    "\n",
    "def dealer_busts(player,dealer,chips):\n",
    "    print(\"Dealer busts!\")\n",
    "    chips.win_bet()\n",
    "    \n",
    "def dealer_wins(player,dealer,chips):\n",
    "    print(\"Dealer wins!\")\n",
    "    chips.lose_bet()\n",
    "    \n",
    "def push(player,dealer):\n",
    "    print(\"Dealer and Player tie! It's a push.\")"
   ]
  },
  {
   "cell_type": "markdown",
   "metadata": {},
   "source": [
    "### And now on to the game!!"
   ]
  },
  {
   "cell_type": "code",
   "execution_count": 19,
   "metadata": {},
   "outputs": [
    {
     "name": "stdout",
     "output_type": "stream",
     "text": [
      "Welcome to Blackjack!\n",
      "\n",
      "Deck is shuffled.\n",
      "How much would you like to bet? 50\n",
      "\n",
      "Dealer's Hand:\n",
      " <card hidden>\n",
      " Two of Diamonds\n",
      "\n",
      "Player's Hand:\n",
      " Nine of Diamonds\n",
      " Nine of Hearts\n",
      "\n",
      "Dealer's Hand:\n",
      " Seven of Diamonds\n",
      " Two of Diamonds\n",
      " Ace of Diamonds\n",
      "Dealer's Hand =  20\n",
      "\n",
      "Player's Hand:\n",
      " Nine of Diamonds\n",
      " Nine of Hearts\n",
      "Player's Hand =  18\n",
      "Dealer wins!\n",
      "\n",
      "Player, you have this many chips:  50\n",
      "Would you like to play another hand? Please enter Y or N. y\n",
      "Welcome to Blackjack!\n",
      "\n",
      "Deck is shuffled.\n",
      "How much would you like to bet? 70\n",
      "\n",
      "Dealer's Hand:\n",
      " <card hidden>\n",
      " Jack of Hearts\n",
      "\n",
      "Player's Hand:\n",
      " Ten of Diamonds\n",
      " Jack of Diamonds\n",
      "Would you like to hit or stand? Enter h or s h\n",
      "\n",
      "Dealer's Hand:\n",
      " <card hidden>\n",
      " Jack of Hearts\n",
      "\n",
      "Player's Hand:\n",
      " Ten of Diamonds\n",
      " Jack of Diamonds\n",
      " Five of Clubs\n",
      "Player busts!\n",
      "\n",
      "Player, you have this many chips:  30\n",
      "Would you like to play another hand? Please enter Y or N. n\n",
      "Thanks for playing!\n"
     ]
    }
   ],
   "source": [
    "while True:\n",
    "    # Print an opening statement\n",
    "    print('Welcome to Blackjack!')\n",
    "    \n",
    "    # Create & shuffle the deck, deal two cards to each player\n",
    "    game_deck = Deck()\n",
    "    game_deck.shuffle()\n",
    "    print('\\nDeck is shuffled.')\n",
    "    \n",
    "    player_hand = Hand()\n",
    "    player_hand.add_card(game_deck.deal())\n",
    "    player_hand.add_card(game_deck.deal())\n",
    "    \n",
    "    dealer_hand = Hand()   \n",
    "    dealer_hand.add_card(game_deck.deal())\n",
    "    dealer_hand.add_card(game_deck.deal())\n",
    "        \n",
    "    # Set up the Player's chips\n",
    "    player_chips = Chips() # Default value is 100   \n",
    "    \n",
    "    # Prompt the Player for their bet\n",
    "    take_bet(player_chips)\n",
    "    \n",
    "    # Show cards (but keep one dealer card hidden)\n",
    "    show_some(player_hand,dealer_hand)\n",
    "    \n",
    "    while playing:  # recall this variable from our hit_or_stand function\n",
    "        \n",
    "        # Prompt for Player to Hit or Stand\n",
    "        hit_or_stand(game_deck,player_hand)\n",
    "        \n",
    "        # Show cards (but keep one dealer card hidden)\n",
    "        show_some(player_hand,dealer_hand)\n",
    "        \n",
    "        # If player's hand exceeds 21, run player_busts() and break out of loop\n",
    "        if player_hand.value > 21:\n",
    "            player_busts(player_hand, dealer_hand, player_chips)\n",
    "            break\n",
    "            \n",
    "            \n",
    "    # If Player hasn't busted, play Dealer's hand until Dealer reaches 17\n",
    "    if player_hand.value <= 21:\n",
    "        \n",
    "        while dealer_hand.value < 17:\n",
    "              hit(game_deck, dealer_hand)\n",
    "                \n",
    "        # Show all cards\n",
    "        show_all(player_hand,dealer_hand)\n",
    "      \n",
    "        # Run different winning scenarios\n",
    "        if dealer_hand.value > 21:\n",
    "            dealer_busts(player_hand, dealer_hand, player_chips)\n",
    "            \n",
    "        elif dealer_hand.value > player_hand.value:\n",
    "            dealer_wins(player_hand, dealer_hand, player_chips)\n",
    "            \n",
    "        elif dealer_hand.value < player_hand.value:\n",
    "            player_wins(player_hand, dealer_hand, player_chips)\n",
    "        \n",
    "        else:\n",
    "            push(player_hand, dealer_hand)\n",
    "            \n",
    "    # Inform Player of their chips total\n",
    "    print(\"\\nPlayer, you have this many chips: \",player_chips.total)\n",
    "    \n",
    "    # Ask to play again\n",
    "    replay = input(\"Would you like to play another hand? Please enter Y or N. \")\n",
    "    \n",
    "    if replay[0].lower() == 'y':\n",
    "        playing = True\n",
    "        continue\n",
    "    else:\n",
    "        print('Thanks for playing!')\n",
    "        break"
   ]
  },
  {
   "cell_type": "code",
   "execution_count": null,
   "metadata": {
    "collapsed": true
   },
   "outputs": [],
   "source": []
  }
 ],
 "metadata": {
  "kernelspec": {
   "display_name": "Python 3",
   "language": "python",
   "name": "python3"
  },
  "language_info": {
   "codemirror_mode": {
    "name": "ipython",
    "version": 3
   },
   "file_extension": ".py",
   "mimetype": "text/x-python",
   "name": "python",
   "nbconvert_exporter": "python",
   "pygments_lexer": "ipython3",
   "version": "3.6.2"
  }
 },
 "nbformat": 4,
 "nbformat_minor": 2
}
