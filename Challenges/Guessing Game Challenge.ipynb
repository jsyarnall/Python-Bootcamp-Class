{
 "cells": [
  {
   "cell_type": "markdown",
   "metadata": {},
   "source": [
    "# Guessing Game Challenge\n",
    "\n",
    "Let's use `while` loops to create a guessing game.\n",
    "\n",
    "The Challenge:\n",
    "\n",
    "Write a program that picks a random integer from 1 to 100, and has players guess the number. The rules are:\n",
    "\n",
    "1. If a player's guess is less than 1 or greater than 100, say \"OUT OF BOUNDS\"\n",
    "2. On a player's first turn, if their guess is\n",
    " * within 10 of the number, return \"WARM!\"\n",
    " * further than 10 away from the number, return \"COLD!\"\n",
    "3. On all subsequent turns, if a guess is \n",
    " * closer to the number than the previous guess return \"WARMER!\"\n",
    " * farther from the number than the previous guess, return \"COLDER!\"\n",
    "4. When the player's guess equals the number, tell them they've guessed correctly *and* how many guesses it took!\n",
    "\n",
    "You can try this from scratch, or follow the steps outlined below. A separate Solution notebook has been provided. Good luck!\n"
   ]
  },
  {
   "cell_type": "markdown",
   "metadata": {},
   "source": [
    "#### First, pick a random integer from 1 to 100 using the random module and assign it to a variable\n",
    "\n",
    "Note: `random.randint(a,b)` returns a random integer in range `[a, b]`, including both end points."
   ]
  },
  {
   "cell_type": "code",
   "execution_count": 1,
   "metadata": {},
   "outputs": [],
   "source": [
    "from random import randint\n",
    "\n",
    "randans = randint(1,100)"
   ]
  },
  {
   "cell_type": "markdown",
   "metadata": {},
   "source": [
    "#### Next, print an introduction to the game and explain the rules"
   ]
  },
  {
   "cell_type": "code",
   "execution_count": 2,
   "metadata": {},
   "outputs": [
    {
     "name": "stdout",
     "output_type": "stream",
     "text": [
      "WELCOME TO GUESS GAME!\n",
      "1. You have to guess what random number was selected by the Game.\n",
      "2. The number can be anything from 1 to 100.\n",
      "3. If your guess is less than 1 or greater than 100 you will be OUT OF BOUNDS.\n",
      "4. On your first turn, if your guess is within 10 of the number the Game will say WARM.\n",
      "5. If you guess is further than 10 away, the game will say Cold\n",
      "6. On all subsequent turns, if a guess is closer to the number than a previous guess you will get WARMER.\n",
      "7. If a guess is farther from the number than a previous guess you will get Colder.\n",
      "8. When you guess the correct number, you will see know you guessed correctly and how many guesses it took.\n"
     ]
    }
   ],
   "source": [
    "print(\"WELCOME TO GUESS GAME!\")\n",
    "print(\"1. You have to guess what random number was selected by the Game.\")\n",
    "print(\"2. The number can be anything from 1 to 100.\")\n",
    "print(\"3. If your guess is less than 1 or greater than 100 you will be OUT OF BOUNDS.\")\n",
    "print(\"4. On your first turn, if your guess is within 10 of the number the Game will say WARM.\") \n",
    "print(\"5. If you guess is further than 10 away, the game will say Cold\")\n",
    "print(\"6. On all subsequent turns, if a guess is closer to the number than a previous guess you will get WARMER.\")\n",
    "print(\"7. If a guess is farther from the number than a previous guess you will get Colder.\")\n",
    "print(\"8. When you guess the correct number, you will see know you guessed correctly and how many guesses it took.\")"
   ]
  },
  {
   "cell_type": "markdown",
   "metadata": {},
   "source": [
    "#### Create a list to store guesses\n",
    "\n",
    "Hint: zero is a good placeholder value. It's useful because it evaluates to \"False\""
   ]
  },
  {
   "cell_type": "code",
   "execution_count": 20,
   "metadata": {},
   "outputs": [],
   "source": [
    "guesslist = [0]"
   ]
  },
  {
   "cell_type": "markdown",
   "metadata": {},
   "source": [
    "#### Write a `while` loop that asks for a valid guess. Test it a few times to make sure it works."
   ]
  },
  {
   "cell_type": "code",
   "execution_count": 4,
   "metadata": {},
   "outputs": [
    {
     "name": "stdout",
     "output_type": "stream",
     "text": [
      "I am thinking of a number between 1 and 100.\n",
      "What is your guess? 5\n"
     ]
    }
   ],
   "source": [
    "while True:\n",
    "    guess = int(input(\"I am thinking of a number between 1 and 100.\\nWhat is your guess? \"))\n",
    "    \n",
    "    if guess < 1 or guess > 100:\n",
    "        print('OUT OF BOUNDS! Please try again: ')\n",
    "        continue\n",
    "        \n",
    "    break"
   ]
  },
  {
   "cell_type": "markdown",
   "metadata": {},
   "source": [
    "#### Write a `while` loop that compares the player's guess to our number. If the player guesses correctly, break from the loop. Otherwise, tell the player if they're warmer or colder, and continue asking for guesses.\n",
    "\n",
    "Some hints:\n",
    "* it may help to sketch out all possible combinations on paper first!\n",
    "* you can use the `abs()` function to find the positive difference between two numbers\n",
    "* if you append all new guesses to the list, then the previous guess is given as `guesses[-2]`"
   ]
  },
  {
   "cell_type": "code",
   "execution_count": 22,
   "metadata": {},
   "outputs": [
    {
     "name": "stdout",
     "output_type": "stream",
     "text": [
      "78\n",
      "I am thinking of a number between 1 and 100.\n",
      "What is your guess? 71\n",
      "WARM!\n",
      "78\n",
      "I am thinking of a number between 1 and 100.\n",
      "What is your guess? 78\n",
      "CORRECT! Your total guesses were: \n",
      "2\n"
     ]
    }
   ],
   "source": [
    "randans = randint(1,100)\n",
    "guesslist = [0]\n",
    "\n",
    "\n",
    "while True:\n",
    "   \n",
    "    print(randans)\n",
    "    guess = int(input(\"I am thinking of a number between 1 and 100.\\nWhat is your guess? \"))\n",
    "    \n",
    "    \n",
    "    if guess < 1 or guess > 100:\n",
    "        print('OUT OF BOUNDS! Please try again: ')\n",
    "        continue\n",
    "    if guess == randans:\n",
    "        print('CORRECT! Your total guesses were: \\n{}'.format(len(guesslist)))\n",
    "        break\n",
    "    \n",
    "    # if guess is incorrect, add guess to the list\n",
    "    guesslist.append(guess)\n",
    "        \n",
    "    if guesslist[-2]:\n",
    "        if abs(randans - guess) < abs(randans - guesslist[-2]):\n",
    "            print('WARMER')\n",
    "        else:\n",
    "            print('COLDER!')\n",
    "    \n",
    "    else:\n",
    "        if abs(randans - guess) <= 10:\n",
    "            print(\"WARM!\")\n",
    "        else:\n",
    "            print(\"COLD!\")"
   ]
  },
  {
   "cell_type": "markdown",
   "metadata": {},
   "source": [
    "That's it! You've just programmed your first game!\n",
    "\n",
    "In the next section we'll learn how to turn some of these repetitive actions into *functions* that can be called whenever we need them."
   ]
  },
  {
   "cell_type": "markdown",
   "metadata": {},
   "source": [
    "### Good Job!"
   ]
  }
 ],
 "metadata": {
  "kernelspec": {
   "display_name": "Python 3",
   "language": "python",
   "name": "python3"
  },
  "language_info": {
   "codemirror_mode": {
    "name": "ipython",
    "version": 3
   },
   "file_extension": ".py",
   "mimetype": "text/x-python",
   "name": "python",
   "nbconvert_exporter": "python",
   "pygments_lexer": "ipython3",
   "version": "3.6.5"
  }
 },
 "nbformat": 4,
 "nbformat_minor": 2
}
